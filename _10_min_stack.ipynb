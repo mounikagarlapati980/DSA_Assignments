{
 "cells": [
  {
   "cell_type": "code",
   "execution_count": 1,
   "id": "46497d26",
   "metadata": {},
   "outputs": [
    {
     "name": "stdout",
     "output_type": "stream",
     "text": [
      "1\n"
     ]
    }
   ],
   "source": [
    "class ConstantStack:\n",
    "    def __init__(self):\n",
    "        self.stack = []\n",
    "        self.min_stack = []\n",
    "    def push(self,item):\n",
    "        self.stack.append(item)\n",
    "        if len(self.min_stack) == 0:\n",
    "            self.min_stack.append(item)\n",
    "            return\n",
    "        smallest = min(item,self.min_stack[-1])\n",
    "        self.min_stack.append(smallest)\n",
    "    def pop(self):\n",
    "        self.min_stack.pop()\n",
    "        return self.stack.pop()\n",
    "    def min(self):\n",
    "        return self.min_stack[-1]\n",
    "\n",
    "\n",
    "s = ConstantStack()\n",
    "s.push(3)\n",
    "s.push(7)\n",
    "s.push(6)\n",
    "s.push(1)\n",
    "print(s.min())"
   ]
  },
  {
   "cell_type": "code",
   "execution_count": null,
   "id": "050d593e",
   "metadata": {},
   "outputs": [],
   "source": []
  }
 ],
 "metadata": {
  "kernelspec": {
   "display_name": "Python 3.8.0 64-bit",
   "language": "python",
   "name": "python3"
  },
  "language_info": {
   "codemirror_mode": {
    "name": "ipython",
    "version": 3
   },
   "file_extension": ".py",
   "mimetype": "text/x-python",
   "name": "python",
   "nbconvert_exporter": "python",
   "pygments_lexer": "ipython3",
   "version": "3.8.0"
  },
  "vscode": {
   "interpreter": {
    "hash": "892b1dbae191cb403baa4bf29e539705d2bb168fb9a756bde180b5b738f682b9"
   }
  }
 },
 "nbformat": 4,
 "nbformat_minor": 5
}
