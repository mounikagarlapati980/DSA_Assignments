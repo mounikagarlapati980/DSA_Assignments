{
 "cells": [
  {
   "cell_type": "code",
   "execution_count": 3,
   "id": "fa5f7c76",
   "metadata": {},
   "outputs": [
    {
     "name": "stdout",
     "output_type": "stream",
     "text": [
      "Enter string1: ABCD\n",
      "Enter string2: CDAB\n",
      "CDAB  is a rotated form of  ABCD\n"
     ]
    }
   ],
   "source": [
    "\n",
    "def check_rotation(s1, s2):\n",
    " \n",
    "    if (len(s1) != len(s2)):\n",
    "        skip\n",
    " \n",
    "    q1 = []\n",
    "    for i in range(len(s1)):\n",
    "        q1.insert(0, s1[i])\n",
    " \n",
    "    q2 = []\n",
    "    for i in range(len(s2)):\n",
    "        q2.insert(0, s2[i])\n",
    " \n",
    "    k = len(s2)\n",
    "    while (k > 0):\n",
    "        ch = q2[0]\n",
    "        q2.pop(0)\n",
    "        q2.append(ch)\n",
    "        if (q2 == q1):\n",
    "            return True\n",
    " \n",
    "        k -= 1\n",
    " \n",
    "    return False\n",
    " \n",
    " \n",
    "if __name__ == \"__main__\":\n",
    " \n",
    "    s1 = input(\"Enter string1: \")\n",
    "    s2 = input('Enter string2: ')\n",
    "    if (check_rotation(s1, s2)):\n",
    "        print(s2, \" is a rotated form of \", s1)\n",
    " \n",
    "    else:\n",
    "        print(s2, \" is not a rotated form of \", s1)\n"
   ]
  },
  {
   "cell_type": "code",
   "execution_count": null,
   "id": "57c92b99",
   "metadata": {},
   "outputs": [],
   "source": []
  },
  {
   "cell_type": "code",
   "execution_count": null,
   "id": "675b269a",
   "metadata": {},
   "outputs": [],
   "source": []
  }
 ],
 "metadata": {
  "kernelspec": {
   "display_name": "Python 3 (ipykernel)",
   "language": "python",
   "name": "python3"
  },
  "language_info": {
   "codemirror_mode": {
    "name": "ipython",
    "version": 3
   },
   "file_extension": ".py",
   "mimetype": "text/x-python",
   "name": "python",
   "nbconvert_exporter": "python",
   "pygments_lexer": "ipython3",
   "version": "3.8.0"
  }
 },
 "nbformat": 4,
 "nbformat_minor": 5
}
