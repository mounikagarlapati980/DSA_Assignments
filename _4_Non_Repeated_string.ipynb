{
 "cells": [
  {
   "cell_type": "code",
   "execution_count": 1,
   "id": "ccef1e42",
   "metadata": {},
   "outputs": [
    {
     "name": "stdout",
     "output_type": "stream",
     "text": [
      "enter a string : mmookka\n",
      "a\n"
     ]
    }
   ],
   "source": [
    "from collections import Counter\n",
    "\n",
    "def notrepeated(string):\n",
    "    freq = Counter(string)\n",
    "    for i in string:\n",
    "        if(freq[i] == 1):\n",
    "            print(i)\n",
    "            break\n",
    "if __name__=='__main__':\n",
    "    string=input(\"enter a string : \")\n",
    "    notrepeated(string)"
   ]
  },
  {
   "cell_type": "code",
   "execution_count": null,
   "id": "8617355f",
   "metadata": {},
   "outputs": [],
   "source": []
  }
 ],
 "metadata": {
  "kernelspec": {
   "display_name": "Python 3 (ipykernel)",
   "language": "python",
   "name": "python3"
  },
  "language_info": {
   "codemirror_mode": {
    "name": "ipython",
    "version": 3
   },
   "file_extension": ".py",
   "mimetype": "text/x-python",
   "name": "python",
   "nbconvert_exporter": "python",
   "pygments_lexer": "ipython3",
   "version": "3.8.0"
  }
 },
 "nbformat": 4,
 "nbformat_minor": 5
}
