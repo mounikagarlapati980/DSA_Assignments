{
 "cells": [
  {
   "cell_type": "code",
   "execution_count": 4,
   "id": "9888acb2",
   "metadata": {},
   "outputs": [
    {
     "name": "stdout",
     "output_type": "stream",
     "text": [
      "Enter Range:5\n",
      "Enter NUmber:1\n",
      "Enter NUmber:2\n",
      "Enter NUmber:3\n",
      "Enter NUmber:4\n",
      "Enter NUmber:5\n",
      "Enter Sum: 6\n",
      "Count of pairs is  2\n",
      "list of pairs [(1, 5), (2, 4)]\n"
     ]
    }
   ],
   "source": [
    "def getPairsCount(arr, n, sum):\n",
    "    lst=[]\n",
    "    count = 0  \n",
    "    for i in range(0, n):\n",
    "        for j in range(i + 1, n):\n",
    "            if arr[i] + arr[j] == sum:\n",
    "                count+=1\n",
    "                lst.append((arr[i],arr[j]))\n",
    " \n",
    "    return count,lst\n",
    " \n",
    "if __name__=='__main__':\n",
    "    arr = []\n",
    "    n = int(input(\"Enter Range:\"))\n",
    "    for i in range(n):\n",
    "        arr.append(int(input('Enter NUmber:')))\n",
    "    sum = int(input(\"Enter Sum: \"))\n",
    "    res=getPairsCount(arr, n, sum)\n",
    "    print(\"Count of pairs is \",res[0])\n",
    "    print('list of pairs',res[1])"
   ]
  },
  {
   "cell_type": "code",
   "execution_count": null,
   "id": "36151781",
   "metadata": {},
   "outputs": [],
   "source": []
  }
 ],
 "metadata": {
  "kernelspec": {
   "display_name": "Python 3 (ipykernel)",
   "language": "python",
   "name": "python3"
  },
  "language_info": {
   "codemirror_mode": {
    "name": "ipython",
    "version": 3
   },
   "file_extension": ".py",
   "mimetype": "text/x-python",
   "name": "python",
   "nbconvert_exporter": "python",
   "pygments_lexer": "ipython3",
   "version": "3.8.0"
  }
 },
 "nbformat": 4,
 "nbformat_minor": 5
}
