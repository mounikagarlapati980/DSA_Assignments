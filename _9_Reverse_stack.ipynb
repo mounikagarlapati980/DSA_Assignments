{
 "cells": [
  {
   "cell_type": "code",
   "execution_count": 1,
   "id": "8398d97e",
   "metadata": {},
   "outputs": [
    {
     "name": "stdout",
     "output_type": "stream",
     "text": [
      "Original Stack\n",
      "5\n",
      "4\n",
      "3\n",
      "2\n",
      "1\n",
      "\n",
      "Stack after Reversing\n",
      "1\n",
      "2\n",
      "3\n",
      "4\n",
      "5\n"
     ]
    }
   ],
   "source": [
    "class Stack:\n",
    "    def __init__(self):\n",
    "        self.lst = []\n",
    "          \n",
    "    def push(self, value):\n",
    "        self.lst.append(value)\n",
    "        \n",
    "    def pop(self):\n",
    "        return self.lst.pop()\n",
    "    \n",
    "    def isempty(self):\n",
    "        return self.lst == []\n",
    "   \n",
    "    def display(self):\n",
    "        for value in reversed(self.lst):\n",
    "            print(value)\n",
    "\n",
    "def BottomInsert(s, value):\n",
    "    \n",
    "    if s.isempty(): \n",
    "        s.push(value)\n",
    "    else:\n",
    "        popped = s.pop()\n",
    "        BottomInsert(s, value)\n",
    "        s.push(popped)\n",
    "\n",
    "def Reverse(s):\n",
    "    if s.isempty():\n",
    "        pass\n",
    "    else:\n",
    "        popped = s.pop()\n",
    "        Reverse(s)\n",
    "        BottomInsert(s, popped)\n",
    "  \n",
    "\n",
    "stk = Stack()\n",
    "  \n",
    "stk.push(1)\n",
    "stk.push(2)\n",
    "stk.push(3)\n",
    "stk.push(4)\n",
    "stk.push(5)\n",
    "  \n",
    "print(\"Original Stack\")\n",
    "stk.display()\n",
    "  \n",
    "print(\"\\nStack after Reversing\")\n",
    "Reverse(stk)\n",
    "stk.display()"
   ]
  },
  {
   "cell_type": "code",
   "execution_count": null,
   "id": "68b847b5",
   "metadata": {},
   "outputs": [],
   "source": []
  }
 ],
 "metadata": {
  "kernelspec": {
   "display_name": "Python 3 (ipykernel)",
   "language": "python",
   "name": "python3"
  },
  "language_info": {
   "codemirror_mode": {
    "name": "ipython",
    "version": 3
   },
   "file_extension": ".py",
   "mimetype": "text/x-python",
   "name": "python",
   "nbconvert_exporter": "python",
   "pygments_lexer": "ipython3",
   "version": "3.8.0"
  }
 },
 "nbformat": 4,
 "nbformat_minor": 5
}
